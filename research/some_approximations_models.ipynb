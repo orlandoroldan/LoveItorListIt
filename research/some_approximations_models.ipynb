{
 "cells": [
  {
   "cell_type": "code",
   "execution_count": 14,
   "id": "84f3dba2",
   "metadata": {},
   "outputs": [],
   "source": [
    "import json\n",
    "\n",
    "with open('hackupc2023_restbai__dataset_sample.json', encoding='utf-8') as file:\n",
    "    # Load the JSON data\n",
    "    data = json.load(file)"
   ]
  },
  {
   "cell_type": "markdown",
   "id": "4d130b17",
   "metadata": {},
   "source": [
    "Each property is represented by a number, and is associated to a dictionary that includes all the data in each house.\n",
    "\n",
    "- `summary`: Title describing the property (written in Spanish).\n",
    "\n",
    "- `city`: Municipality where the property is located.\n",
    "- `neighborhood`: Neighborhood where the property is located.\n",
    "- `region`: Region / Province where the property is located.\n",
    "- `price`: Sold price (in Euros) of the property once was listed.\n",
    "- `square_meters`: Living area of the property.\n",
    "- `bedrooms`: Number of bedrooms of the property.\n",
    "- `bathrooms`: Number of bathrooms on the property.\n",
    "- `images`: Array of Internet-accessible URLs pointing to the property images.\n",
    "  - Format is always like `https://restb-hackathon.s3.amazonaws.com/real_estate_dataset/images/{PROPERTY_ID}__{IMAGE_IDX}.jpg` where `PROPERTY_ID` is the same as the `key` of the dictionary and the `IMAGE_IDX` is going from `0` to `n - 1`.\n",
    "- `num_images`: Number of images available of the property.\n",
    "- `image_data`: Dictionary with the image insights that Restb.ai solutions could extract:\n",
    "  - `image_data.r1r6`: Dictionary with the 4 different values of the R1R6 score (see PDF attached into the ZIP for more context).\n",
    "    - `image_data.r1r6.property`: R1R6 score of the whole property.\n",
    "    - `image_data.r1r6.kitchen`: R1R6 score of the kitchen sub-group of the property.\n",
    "    - `image_data.r1r6.bathroom`: R1R6 score of the bathroom sub-group of the property.\n",
    "    - `image_data.r1r6.interior`: R1R6 score of the interior sub-group of the property.\n",
    "  - `image_data.style`: Dictionary with the Exterior Style of the property.\n",
    "    - `image_data.style.label`: Label of the most confident prediction of the style of the property.\n",
    "    - `image_data.style.confidence`: Float value (0 - 1) related with the confidence of the style of the property.\n",
    "  - `image_data.features_by_room_type`: Dictionary with the Features found in the property split by Room types.\n",
    "    - Each `key` of this dictionary is the Room Type label (i. e. `kitchen`).\n",
    "    - Each value is a dictionary with the information found inside:\n",
    "      - `image_data.features_by_room_type.RT.unique_features`: List of dictionaries with all the unique features from a list of +100 available options.\n",
    "        - `image_data.features_by_room_type.RT.unique_features.label`: Label of the detection found in the `RT` room type (i. e. `refrigerator`).\n",
    "        - `image_data.features_by_room_type.RT.unique_features.details`: Array of detailed labels related to the main detection (i. e. `stainless_steel`).\n",
    "      - `image_data.features_by_room_type.RT.best_photo_idx`: Integer pointing to the index of the `images` array referring to the best photo of that room type of the property.\n",
    "- `property_type`: Property type of the property.\n",
    "  - Within the following 4 options: `single_family`, `condo_apartment`, `multi_family`, and `townhome`.\n",
    "  \n",
    "Image data is a dictionary as well. Therefore, we will have to treat it.  \n",
    "\n",
    "Per cada propietat tenim l'score de les diverses habitacions i de la casa en general (pot haver-hi valors a nuls).\n",
    "\n",
    "Tenim informació de l'estil i la confiança amb la qual es troba.\n",
    "\n",
    "\n",
    "  "
   ]
  },
  {
   "cell_type": "code",
   "execution_count": 60,
   "id": "e4593f28",
   "metadata": {},
   "outputs": [],
   "source": [
    "def extract_image_data_el(item, file):\n",
    "    prop = file[item]\n",
    "    image_data = prop[\"image_data\"]\n",
    "    # r1r6\n",
    "    for el in [\"property\", \"kitchen\", \"bathroom\", \"interior\"]:\n",
    "        prop[\"image_data.r1f6.\" + el] = image_data[\"r1r6\"][el]\n",
    "\n",
    "    # style\n",
    "    for el in [\"label\", \"confidence\"]:\n",
    "        prop[\"image_data.style\" + el] = image_data[\"style\"][el]\n",
    "    \n",
    "    \n",
    "def extract_image_data(file):\n",
    "    for item in file:\n",
    "        extract_image_data_el(item, file)"
   ]
  },
  {
   "cell_type": "code",
   "execution_count": 61,
   "id": "d7ebb450",
   "metadata": {},
   "outputs": [],
   "source": [
    "extract_image_data(data)"
   ]
  },
  {
   "cell_type": "code",
   "execution_count": 62,
   "id": "0b5179a4",
   "metadata": {},
   "outputs": [],
   "source": [
    "import pandas as pd\n",
    "\n",
    "df = pd.DataFrame.from_dict(data, orient=\"index\")\n"
   ]
  },
  {
   "cell_type": "code",
   "execution_count": 65,
   "id": "d4a66b6b",
   "metadata": {},
   "outputs": [],
   "source": [
    "df = df.drop(\"image_data\", axis=1)"
   ]
  },
  {
   "cell_type": "code",
   "execution_count": 113,
   "id": "8cc0ccc8",
   "metadata": {},
   "outputs": [],
   "source": [
    "features_detected = ['baseboard_radiator', 'central_ac', 'dishwasher', 'double_oven', 'microwave', 'oven', 'radiator', 'range_hood', 'range_oven', 'separate_washer__dryer', 'stacked_washer__dryer', 'stovetop', 'refrigerator', 'tv', 'wall_mounted_ac', 'washer__dryer', 'water_heater', 'backsplash', 'bath', 'combined_bath_shower', 'double_sink', 'mirror', 'shower', 'sink', 'toilet', 'vanity', 'awning', 'balcony', 'basketball_court', 'bocce_ball', 'ceiling_fan', 'deck', 'dock', 'dog_park', 'dog_washing_station', 'fence', 'fire_pit', 'fireplace', 'fountain', 'french_doors', 'garden', 'gate', 'gazebo', 'hot_tub', 'lanai', 'lawn', 'mail_area', 'outdoor_bar', 'outdoor_kitchen', 'outdoor_living_space', 'outdoor_structure', 'package_area', 'patio', 'pergola', 'playground', 'pool', 'porch', 'putting_green', 'shuffleboard', 'soccer_field', 'solar_panels', 'storm_shelter', 'sunroom', 'tennis_court', 'trampoline', 'volleyball_court', 'aggregate_floor', 'brick_floor', 'carpet', 'concrete_floor', 'hardwood_floor', 'parquet_floor', 'tile_floor', 'beamed_ceiling', 'brick_ceiling', 'brick_wall', 'built_in_shelves', 'ceiling_fan', 'coffered_ceiling', 'concrete_ceiling', 'concrete_wall', 'crown_molding', 'drop_ceiling', 'elevator', 'fireplace', 'floor_ceiling_windows', 'french_doors', 'high_ceiling', 'log_wall', 'low_ceiling', 'natural_light', 'notable_chandelier', 'pool', 'skylight', 'stone_wall', 'textured_ceiling', 'tile_wall', 'track_lighting', 'tray_ceiling', 'vaulted_ceiling', 'wood_ceiling', 'wood_wall', 'backsplash', 'brown_cabinets', 'dark_brown_cabinets', 'light_brown_cabinets', 'white_cabinets', 'stone_countertops', 'countertops', 'kitchen_bar', 'kitchen_island', 'pendant_lighting','attached_carport', 'attached_garage', 'built_in_garage', 'detached_carport', 'detached_garage','beach_view', 'mountain_view', 'water_view']"
   ]
  },
  {
   "cell_type": "code",
   "execution_count": 68,
   "id": "8e56374b",
   "metadata": {},
   "outputs": [
    {
     "data": {
      "text/html": [
       "<div>\n",
       "<style scoped>\n",
       "    .dataframe tbody tr th:only-of-type {\n",
       "        vertical-align: middle;\n",
       "    }\n",
       "\n",
       "    .dataframe tbody tr th {\n",
       "        vertical-align: top;\n",
       "    }\n",
       "\n",
       "    .dataframe thead th {\n",
       "        text-align: right;\n",
       "    }\n",
       "</style>\n",
       "<table border=\"1\" class=\"dataframe\">\n",
       "  <thead>\n",
       "    <tr style=\"text-align: right;\">\n",
       "      <th></th>\n",
       "      <th>summary</th>\n",
       "      <th>city</th>\n",
       "      <th>neighborhood</th>\n",
       "      <th>region</th>\n",
       "      <th>price</th>\n",
       "      <th>square_meters</th>\n",
       "      <th>bedrooms</th>\n",
       "      <th>bathrooms</th>\n",
       "      <th>images</th>\n",
       "      <th>num_images</th>\n",
       "      <th>...</th>\n",
       "      <th>kitchen_island</th>\n",
       "      <th>pendant_lighting</th>\n",
       "      <th>attached_carport</th>\n",
       "      <th>attached_garage</th>\n",
       "      <th>built_in_garage</th>\n",
       "      <th>detached_carport</th>\n",
       "      <th>detached_garage</th>\n",
       "      <th>beach_view</th>\n",
       "      <th>mountain_view</th>\n",
       "      <th>water_view</th>\n",
       "    </tr>\n",
       "  </thead>\n",
       "  <tbody>\n",
       "    <tr>\n",
       "      <th>303464</th>\n",
       "      <td>Dúplex en Les Arenes-Can Montllor-La Grípia</td>\n",
       "      <td>Les Arenes-Can Montllor-La Grípia</td>\n",
       "      <td>Distrito La Grípia-Sant Llorenç. Terrassa</td>\n",
       "      <td>valles_occidental_nord</td>\n",
       "      <td>155000</td>\n",
       "      <td>60</td>\n",
       "      <td>2</td>\n",
       "      <td>2</td>\n",
       "      <td>[https://restb-hackathon.s3.amazonaws.com/real...</td>\n",
       "      <td>1</td>\n",
       "      <td>...</td>\n",
       "      <td>0</td>\n",
       "      <td>0</td>\n",
       "      <td>0</td>\n",
       "      <td>0</td>\n",
       "      <td>0</td>\n",
       "      <td>0</td>\n",
       "      <td>0</td>\n",
       "      <td>0</td>\n",
       "      <td>0</td>\n",
       "      <td>0</td>\n",
       "    </tr>\n",
       "    <tr>\n",
       "      <th>323570</th>\n",
       "      <td>Casa adosada en Burgos</td>\n",
       "      <td>Universidad-Las Huelgas</td>\n",
       "      <td>Burgos Capital</td>\n",
       "      <td>alfoz_de_burgos</td>\n",
       "      <td>281000</td>\n",
       "      <td>272</td>\n",
       "      <td>4</td>\n",
       "      <td>2</td>\n",
       "      <td>[https://restb-hackathon.s3.amazonaws.com/real...</td>\n",
       "      <td>3</td>\n",
       "      <td>...</td>\n",
       "      <td>0</td>\n",
       "      <td>0</td>\n",
       "      <td>0</td>\n",
       "      <td>0</td>\n",
       "      <td>0</td>\n",
       "      <td>0</td>\n",
       "      <td>0</td>\n",
       "      <td>0</td>\n",
       "      <td>0</td>\n",
       "      <td>0</td>\n",
       "    </tr>\n",
       "    <tr>\n",
       "      <th>232546</th>\n",
       "      <td>Piso en El Playazo</td>\n",
       "      <td>El Playazo</td>\n",
       "      <td>Vera</td>\n",
       "      <td>levante_almeriense</td>\n",
       "      <td>134900</td>\n",
       "      <td>87</td>\n",
       "      <td>2</td>\n",
       "      <td>2</td>\n",
       "      <td>[https://restb-hackathon.s3.amazonaws.com/real...</td>\n",
       "      <td>1</td>\n",
       "      <td>...</td>\n",
       "      <td>0</td>\n",
       "      <td>0</td>\n",
       "      <td>0</td>\n",
       "      <td>0</td>\n",
       "      <td>0</td>\n",
       "      <td>0</td>\n",
       "      <td>0</td>\n",
       "      <td>0</td>\n",
       "      <td>0</td>\n",
       "      <td>0</td>\n",
       "    </tr>\n",
       "    <tr>\n",
       "      <th>261286</th>\n",
       "      <td>Piso en Mieres</td>\n",
       "      <td>Baíña-San Pedro-Siana</td>\n",
       "      <td>Mieres</td>\n",
       "      <td>asturias</td>\n",
       "      <td>35000</td>\n",
       "      <td>56</td>\n",
       "      <td>2</td>\n",
       "      <td>1</td>\n",
       "      <td>[https://restb-hackathon.s3.amazonaws.com/real...</td>\n",
       "      <td>22</td>\n",
       "      <td>...</td>\n",
       "      <td>0</td>\n",
       "      <td>0</td>\n",
       "      <td>0</td>\n",
       "      <td>0</td>\n",
       "      <td>0</td>\n",
       "      <td>0</td>\n",
       "      <td>0</td>\n",
       "      <td>0</td>\n",
       "      <td>0</td>\n",
       "      <td>0</td>\n",
       "    </tr>\n",
       "    <tr>\n",
       "      <th>800153</th>\n",
       "      <td>Piso en Carrer del Bisbe Morgades, cerca de Ca...</td>\n",
       "      <td>Centre Històric</td>\n",
       "      <td>Vic</td>\n",
       "      <td>osona</td>\n",
       "      <td>395000</td>\n",
       "      <td>134</td>\n",
       "      <td>4</td>\n",
       "      <td>2</td>\n",
       "      <td>[https://restb-hackathon.s3.amazonaws.com/real...</td>\n",
       "      <td>1</td>\n",
       "      <td>...</td>\n",
       "      <td>0</td>\n",
       "      <td>0</td>\n",
       "      <td>0</td>\n",
       "      <td>0</td>\n",
       "      <td>0</td>\n",
       "      <td>0</td>\n",
       "      <td>0</td>\n",
       "      <td>0</td>\n",
       "      <td>0</td>\n",
       "      <td>0</td>\n",
       "    </tr>\n",
       "  </tbody>\n",
       "</table>\n",
       "<p>5 rows × 132 columns</p>\n",
       "</div>"
      ],
      "text/plain": [
       "                                                  summary  \\\n",
       "303464        Dúplex en Les Arenes-Can Montllor-La Grípia   \n",
       "323570                             Casa adosada en Burgos   \n",
       "232546                                 Piso en El Playazo   \n",
       "261286                                     Piso en Mieres   \n",
       "800153  Piso en Carrer del Bisbe Morgades, cerca de Ca...   \n",
       "\n",
       "                                     city  \\\n",
       "303464  Les Arenes-Can Montllor-La Grípia   \n",
       "323570            Universidad-Las Huelgas   \n",
       "232546                         El Playazo   \n",
       "261286              Baíña-San Pedro-Siana   \n",
       "800153                    Centre Històric   \n",
       "\n",
       "                                     neighborhood                  region  \\\n",
       "303464  Distrito La Grípia-Sant Llorenç. Terrassa  valles_occidental_nord   \n",
       "323570                             Burgos Capital         alfoz_de_burgos   \n",
       "232546                                       Vera      levante_almeriense   \n",
       "261286                                     Mieres                asturias   \n",
       "800153                                        Vic                   osona   \n",
       "\n",
       "         price  square_meters  bedrooms  bathrooms  \\\n",
       "303464  155000             60         2          2   \n",
       "323570  281000            272         4          2   \n",
       "232546  134900             87         2          2   \n",
       "261286   35000             56         2          1   \n",
       "800153  395000            134         4          2   \n",
       "\n",
       "                                                   images  num_images  ...  \\\n",
       "303464  [https://restb-hackathon.s3.amazonaws.com/real...           1  ...   \n",
       "323570  [https://restb-hackathon.s3.amazonaws.com/real...           3  ...   \n",
       "232546  [https://restb-hackathon.s3.amazonaws.com/real...           1  ...   \n",
       "261286  [https://restb-hackathon.s3.amazonaws.com/real...          22  ...   \n",
       "800153  [https://restb-hackathon.s3.amazonaws.com/real...           1  ...   \n",
       "\n",
       "       kitchen_island  pendant_lighting  attached_carport  attached_garage  \\\n",
       "303464              0                 0                 0                0   \n",
       "323570              0                 0                 0                0   \n",
       "232546              0                 0                 0                0   \n",
       "261286              0                 0                 0                0   \n",
       "800153              0                 0                 0                0   \n",
       "\n",
       "        built_in_garage detached_carport  detached_garage  beach_view  \\\n",
       "303464                0                0                0           0   \n",
       "323570                0                0                0           0   \n",
       "232546                0                0                0           0   \n",
       "261286                0                0                0           0   \n",
       "800153                0                0                0           0   \n",
       "\n",
       "        mountain_view  water_view  \n",
       "303464              0           0  \n",
       "323570              0           0  \n",
       "232546              0           0  \n",
       "261286              0           0  \n",
       "800153              0           0  \n",
       "\n",
       "[5 rows x 132 columns]"
      ]
     },
     "execution_count": 68,
     "metadata": {},
     "output_type": "execute_result"
    }
   ],
   "source": [
    "df.head()"
   ]
  },
  {
   "cell_type": "code",
   "execution_count": 121,
   "id": "514d8161",
   "metadata": {},
   "outputs": [],
   "source": [
    "for col in features_detected:\n",
    "    df[col] = 0\n",
    "\n",
    "for id_house, row in df.iterrows():\n",
    "    j = data[id_house]['image_data'][\"features_by_room_type\"]\n",
    "    for k in j:\n",
    "        for i in range (len(j[k][\"unique_features\"])):\n",
    "            feature = j[k][\"unique_features\"][i]['label'];\n",
    "            df.at[id_house, feature] = 1;"
   ]
  },
  {
   "cell_type": "code",
   "execution_count": 122,
   "id": "67d3eb52",
   "metadata": {},
   "outputs": [
    {
     "data": {
      "text/plain": [
       "0    90\n",
       "1    10\n",
       "Name: washer__dryer, dtype: int64"
      ]
     },
     "execution_count": 122,
     "metadata": {},
     "output_type": "execute_result"
    }
   ],
   "source": [
    "df[\"washer__dryer\"].value_counts()"
   ]
  },
  {
   "cell_type": "markdown",
   "id": "dc41391e",
   "metadata": {},
   "source": [
    "City\n",
    "Neighborhood\n",
    "Region\n",
    "\n",
    "Price: Distribuir com una normal (apliquem logaritme)\n",
    "\n",
    "square_meters\n",
    "bedrooms\n",
    "bathrooms\n",
    "\n"
   ]
  },
  {
   "cell_type": "code",
   "execution_count": 123,
   "id": "10d7aeec",
   "metadata": {},
   "outputs": [],
   "source": [
    "df.to_csv(\"hackupc.csv\")"
   ]
  },
  {
   "cell_type": "code",
   "execution_count": 129,
   "id": "94cbd7b3",
   "metadata": {},
   "outputs": [
    {
     "data": {
      "text/plain": [
       "<Axes: xlabel='price', ylabel='Count'>"
      ]
     },
     "execution_count": 129,
     "metadata": {},
     "output_type": "execute_result"
    },
    {
     "data": {
      "image/png": "[encoded data removed]",
      "text/plain": [
       "<Figure size 432x288 with 1 Axes>"
      ]
     },
     "metadata": {
      "needs_background": "light"
     },
     "output_type": "display_data"
    }
   ],
   "source": [
    "import seaborn as sns\n",
    "import numpy as np\n",
    "\n",
    "sns.histplot(df, x=\"price\")\n",
    "\n",
    "df[\"logprice\"] = np.log(df[\"price\"])"
   ]
  },
  {
   "cell_type": "code",
   "execution_count": 134,
   "id": "058be974",
   "metadata": {},
   "outputs": [
    {
     "data": {
      "text/plain": [
       "<Axes: xlabel='logprice', ylabel='Count'>"
      ]
     },
     "execution_count": 134,
     "metadata": {},
     "output_type": "execute_result"
    },
    {
     "data": {
      "image/png": "[encoded data removed]",
      "text/plain": [
       "<Figure size 432x288 with 1 Axes>"
      ]
     },
     "metadata": {
      "needs_background": "light"
     },
     "output_type": "display_data"
    }
   ],
   "source": [
    "sns.histplot(df, x=\"logprice\", bins = 13)"
   ]
  },
  {
   "cell_type": "code",
   "execution_count": 144,
   "id": "b736f120",
   "metadata": {},
   "outputs": [
    {
     "data": {
      "text/plain": [
       "Ourense Capital                                       2\n",
       "Castelló de la Plana                                  2\n",
       "Palencia Capital                                      2\n",
       "Mataró                                                2\n",
       "Burgos Capital                                        2\n",
       "San Sebastián de los Reyes                            1\n",
       "Montcada i Reixac                                     1\n",
       "Pineda de Mar                                         1\n",
       "Distrito Centro. Marbella                             1\n",
       "Yaiza                                                 1\n",
       "Cuenca Capital                                        1\n",
       "El Puerto de Santa María                              1\n",
       "Gandia                                                1\n",
       "Mérida                                                1\n",
       "O Rosal                                               1\n",
       "Igualada                                              1\n",
       "Llucmajor                                             1\n",
       "Mont-roig del Camp                                    1\n",
       "Zamora Capital                                        1\n",
       "Arrecife                                              1\n",
       "Distrito Garbinet-Vistahermosa. Alicante - Alacant    1\n",
       "Camargo                                               1\n",
       "Oviedo                                                1\n",
       "Distrito Núcleo Urbano. Cartagena                     1\n",
       "Cerdedo-Cotobade                                      1\n",
       "Distrito Núcleo Urbano. Roquetas de Mar               1\n",
       "Altea                                                 1\n",
       "Roquetas de Mar                                       1\n",
       "Distrito Moncloa-Aravaca. Madrid Capital              1\n",
       "Distrito Eixample. Barcelona Capital                  1\n",
       "Sitges                                                1\n",
       "Distrito La Grípia-Sant Llorenç. Terrassa             1\n",
       "Ibiza - Eivissa                                       1\n",
       "Lepe                                                  1\n",
       "Vera                                                  1\n",
       "Mieres                                                1\n",
       "Vic                                                   1\n",
       "Benicarló                                             1\n",
       "San Pedro del Pinatar                                 1\n",
       "Santa Pola                                            1\n",
       "Santanyí                                              1\n",
       "León Capital                                          1\n",
       "El Ejido                                              1\n",
       "Corvera de Asturias                                   1\n",
       "Fontanals de Cerdanya                                 1\n",
       "Manresa                                               1\n",
       "Roses                                                 1\n",
       "Calvià                                                1\n",
       "Santiago de Compostela                                1\n",
       "Jerez de la Frontera                                  1\n",
       "Barakaldo                                             1\n",
       "Terrassa                                              1\n",
       "Granada Capital                                       1\n",
       "Villarcayo de Merindad de Castilla La Vieja           1\n",
       "Rubí                                                  1\n",
       "Valdoviño                                             1\n",
       "Distrito Ponent. Palma de Mallorca                    1\n",
       "Córdoba Capital                                       1\n",
       "Albacete Capital                                      1\n",
       "Motril                                                1\n",
       "Name: neighborhood, dtype: int64"
      ]
     },
     "execution_count": 144,
     "metadata": {},
     "output_type": "execute_result"
    }
   ],
   "source": [
    "df.neighborhood.value_counts()"
   ]
  },
  {
   "cell_type": "code",
   "execution_count": null,
   "id": "161815b1",
   "metadata": {},
   "outputs": [],
   "source": [
    "from sklearn.model_selection import train_test_split,  KFold, cross_val_score\n",
    "from sklearn.linear_model import LinearRegression, Ridge, RidgeCV, Lasso, LassoCV\n",
    "from sklearn.metrics import mean_squared_error, r2_score\n",
    "from sklearn.preprocessing import MinMaxScaler\n",
    " \n",
    "df = pd.read_csv(\"hackupc_total_treated.csv\")\n",
    "\n",
    "# drop columnes que no ens interessen: \"summary\", \"property_type\", \"images\", \"region\", \"summary\", \"X\", \"property_id\", \"beach_view\", \"price\"\n",
    "# drop columnes que no ens interessen: \n",
    "columns_to_drop = ['Unnamed: 0', \"property_id\", \"summary\", \"region\", \"price\", \"images\", \"beach_view\"] \n",
    "df = df.drop(columns_to_drop, axis=1).reset_index(drop= True)\n",
    "\n",
    "label_encoder = LabelEncoder()\n",
    "df['property_type_numeric'] = label_encoder.fit_transform(df['property_type'])\n",
    "\n",
    "DF = df.drop(columns=['property_type']).reset_index(drop= True)\n",
    "\n",
    "X = df[:, df.columns != \"logprice\"]\n",
    "y = = df[\"logrice\"]\n",
    "\n",
    "X_train, X_test, y_train, y_test = train_test_split(X, y, test_size=0.25, random_state=42)"
   ]
  },
  {
   "cell_type": "code",
   "execution_count": 1,
   "id": "e0fd318f",
   "metadata": {},
   "outputs": [
    {
     "data": {
      "text/plain": [
       "20"
      ]
     },
     "execution_count": 1,
     "metadata": {},
     "output_type": "execute_result"
    }
   ],
   "source": [
    "most_important = [\"image_data.r1r6.property\", \"pool\", \"vanity\", \"fireplace\", \"double_sink\", \"tv\",\"hardwood_floor\", \"mirror\", \"dishwasher\", \"floor_ceiling_windows\", \"microwave\", \"notable_chandelier\", \"pergola\", \"shower\", \"kitchen_island\", \"outdoor_bar\", \"oven\", \"radiator\", \"built_in_shelves\",\"refrigerator\"]\n",
    "len(most_important)# pool si hi ha garden o alguna cosa"
   ]
  },
  {
   "cell_type": "code",
   "execution_count": null,
   "id": "4d2d04ea",
   "metadata": {},
   "outputs": [],
   "source": [
    "ridge_cross_val_metrics = pd.DataFrame(columns=['mean MSE', 'mean norm_MSE', 'mean R2'])\n",
    "lambdas = [0, 0.01, 0.1, 0.5]\n",
    "\n",
    "# We calculate the cross-validation metrics for each lambda \n",
    "for lambda_val in lambdas:\n",
    "    kf = KFold(n_splits=5)\n",
    "    i=1\n",
    "    cv_mse = []\n",
    "    cv_nmse = []\n",
    "    cv_r2 = []\n",
    "    # We compute the metrics for each fold and then perform the mean.\n",
    "    for train_index, test_index in kf.split(X_train):\n",
    "        x_train_fold = X_train.values[train_index]\n",
    "        y_train_fold = y_train.values[train_index]\n",
    "        x_test_fold = X_train.values[test_index,:]\n",
    "        y_test_fold = y_train.values[test_index]\n",
    "\n",
    "        lr = Ridge(alpha=lambda_val)\n",
    "        lr.fit(x_train_fold,y_train_fold)\n",
    "        y_pred_fold = lr.predict(x_test_fold)\n",
    "        fold_mse =mean_squared_error(y_test_fold, y_pred_fold)\n",
    "        fold_nmse =  1-r2_score(y_test_fold, y_pred_fold)\n",
    "        fold_r2 = r2_score(y_test_fold, y_pred_fold)\n",
    "        cv_mse.append(fold_mse)\n",
    "        cv_nmse.append(fold_nmse)\n",
    "        cv_r2.append(fold_r2)\n",
    "    \n",
    "    ridge_cross_val_metrics.loc['Lambda={}'.format(lambda_val),:] = [np.mean(cv_mse),np.mean(cv_nmse),np.mean(cv_r2)]\n",
    "    \n",
    "ridge_cross_val_metrics.sort_values(by='mean R2',ascending=False)"
   ]
  },
  {
   "cell_type": "code",
   "execution_count": null,
   "id": "03b97bab",
   "metadata": {},
   "outputs": [],
   "source": [
    "from sklearn.metrics.pairwise import cosine_similarity\n",
    "\n",
    "def find_top_five_house(new_house, df):\n",
    "    \"\"\"Returns top 5 most similar houses in dataframe\"\"\"\n",
    "    # primer fem amb les propietats importants\n",
    "    df_houses = df[df.price < new_house.price *1.17] # SHA DE PENSAR\n",
    "    \n",
    "    similarity_scores_200 = cosine_similarity(new_house, df_houses[[...]]) # afegir noms columnes\n",
    "    most_similar_indexes_200 = similarity_scores_200.argsort()[0,::-1][:200]\n",
    "    top_similar_houses_200 = data.loc[most_similar_indexes]\n",
    "    \n",
    "    similarity_scores_5 = cosine_similarity(new_house, top_similar_houses_200)\n",
    "    most_similar_indexes_5 = similarity_scores_5.argsort()[0,::-1][:5]\n",
    "    top_similar_houses_5 = data.loc[most_similar_indexes_5]\n",
    "\n",
    "    return top_similar_houses_5"
   ]
  },
  {
   "cell_type": "code",
   "execution_count": null,
   "id": "3704a9ce",
   "metadata": {},
   "outputs": [],
   "source": [
    "def house_to_dataframe(house_json):\n",
    "    # one house\n",
    "    df_house = pd.DataFrame.from_dict(house_json, orient=\"index\")\n",
    "         \n",
    "    # r1r6\n",
    "    df_house[\"image_data.r1f6.property\"] = df_house[\"image_data\"][\"r1r6\"][\"property\"]\n",
    "    \n",
    "    features_detected = ['baseboard_radiator', 'central_ac', 'dishwasher', 'double_oven', 'microwave', 'oven', 'radiator', 'range_hood', 'range_oven', 'separate_washer__dryer', 'stacked_washer__dryer', 'stovetop', 'refrigerator', 'tv', 'wall_mounted_ac', 'washer__dryer', 'water_heater', 'backsplash', 'bath', 'combined_bath_shower', 'double_sink', 'mirror', 'shower', 'sink', 'toilet', 'vanity', 'awning', 'balcony', 'basketball_court', 'bocce_ball', 'ceiling_fan', 'deck', 'dock', 'dog_park', 'dog_washing_station', 'fence', 'fire_pit', 'fireplace', 'fountain', 'french_doors', 'garden', 'gate', 'gazebo', 'hot_tub', 'lanai', 'lawn', 'mail_area', 'outdoor_bar', 'outdoor_kitchen', 'outdoor_living_space', 'outdoor_structure', 'package_area', 'patio', 'pergola', 'playground', 'pool', 'porch', 'putting_green', 'shuffleboard', 'soccer_field', 'solar_panels', 'storm_shelter', 'sunroom', 'tennis_court', 'trampoline', 'volleyball_court', 'aggregate_floor', 'brick_floor', 'carpet', 'concrete_floor', 'hardwood_floor', 'parquet_floor', 'tile_floor', 'beamed_ceiling', 'brick_ceiling', 'brick_wall', 'built_in_shelves', 'ceiling_fan', 'coffered_ceiling', 'concrete_ceiling', 'concrete_wall', 'crown_molding', 'drop_ceiling', 'elevator', 'fireplace', 'floor_ceiling_windows', 'french_doors', 'high_ceiling', 'log_wall', 'low_ceiling', 'natural_light', 'notable_chandelier', 'pool', 'skylight', 'stone_wall', 'textured_ceiling', 'tile_wall', 'track_lighting', 'tray_ceiling', 'vaulted_ceiling', 'wood_ceiling', 'wood_wall', 'backsplash', 'brown_cabinets', 'dark_brown_cabinets', 'light_brown_cabinets', 'white_cabinets', 'stone_countertops', 'countertops', 'kitchen_bar', 'kitchen_island', 'pendant_lighting','attached_carport', 'attached_garage', 'built_in_garage', 'detached_carport', 'detached_garage','beach_view', 'mountain_view', 'water_view']\n",
    "\n",
    "    for col in features_detected:\n",
    "        df_house[col] = 0\n",
    "\n",
    "    j = df_house['image_data'][\"features_by_room_type\"]\n",
    "    for k in j:\n",
    "        for i in range (len(j[k][\"unique_features\"])):\n",
    "            feature = j[k][\"unique_features\"][i]['label'];\n",
    "            df_house[feature] = 1\n",
    "    \n",
    "    df_house.drop(\"image_data\", axis=1)\n",
    "    return df_house\n"
   ]
  }
 ],
 "metadata": {
  "kernelspec": {
   "display_name": "Python 3 (ipykernel)",
   "language": "python",
   "name": "python3"
  },
  "language_info": {
   "codemirror_mode": {
    "name": "ipython",
    "version": 3
   },
   "file_extension": ".py",
   "mimetype": "text/x-python",
   "name": "python",
   "nbconvert_exporter": "python",
   "pygments_lexer": "ipython3",
   "version": "3.9.12"
  }
 },
 "nbformat": 4,
 "nbformat_minor": 5
}
